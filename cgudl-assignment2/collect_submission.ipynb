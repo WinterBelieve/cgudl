{
 "cells": [
  {
   "cell_type": "code",
   "execution_count": null,
   "id": "8816fc29",
   "metadata": {},
   "outputs": [],
   "source": [
    "\n",
    "# TODO: Enter the path in your Notebook of the assignment.\n",
    "# e.g. 'cgudl/assignment1/'\n",
    "FOLDERNAME = '/home/jovyan/cgudl/cgudl-assignment2/'\n",
    "\n",
    "assert FOLDERNAME is not None, \"[!] Enter the foldername.\""
   ]
  },
  {
   "attachments": {},
   "cell_type": "markdown",
   "id": "355916a9",
   "metadata": {},
   "source": [
    "# Collect Submission - Zip + Generate PDF \n",
    "\n",
    "Run this notebook once you have completed all the other notebooks: `FullyConnectedNets.ipynb`, `BatchNormalization.ipynb`, `Dropout.ipynb`, `ConvolutionalNetworks.ipynb`).\n",
    "\n",
    "It will:\n",
    "\n",
    "* Generate a zip file of your code (`.py` and `.ipynb`) called `a2.zip`.\n",
    "* Convert all notebooks into a single PDF file called `assignment2.pdf`.\n",
    "\n",
    "If your submission for this step was successful, you should see the following display message:\n",
    "\n",
    "`### Done! Please submit a2.zip and the assignment2.pdf to Teams. ###`\n",
    "\n",
    "Make sure to download the zip and pdf file locally to your computer, then submit to Teams. Congrats on succesfully completing the assignment!"
   ]
  },
  {
   "cell_type": "code",
   "execution_count": null,
   "id": "12f7cf79",
   "metadata": {},
   "outputs": [],
   "source": [
    "%cd $FOLDERNAME\n",
    "!sudo apt-get install texlive-xetex texlive-fonts-recommended texlive-generic-recommended\n",
    "!pip install PyPDF2\n",
    "!bash collectSubmission.sh"
   ]
  }
 ],
 "metadata": {
  "language_info": {
   "name": "python"
  }
 },
 "nbformat": 4,
 "nbformat_minor": 5
}
