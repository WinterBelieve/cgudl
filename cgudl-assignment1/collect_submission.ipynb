{
 "cells": [
  {
   "cell_type": "code",
   "execution_count": null,
   "id": "c1fc9627",
   "metadata": {},
   "outputs": [],
   "source": [
    "\n",
    "# TODO: Enter the path in your Notebook of the assignment.\n",
    "# e.g. 'cgudl/assignment1/'\n",
    "FOLDERNAME = None\n",
    "\n",
    "assert FOLDERNAME is not None, \"[!] Enter the foldername.\""
   ]
  },
  {
   "cell_type": "markdown",
   "id": "23ef1446",
   "metadata": {},
   "source": [
    "# Collect Submission - Zip + Generate PDF \n",
    "\n",
    "Run this notebook once you have completed all the other notebooks: `knn.ipynb`, `svm.ipynb`, `softmax.ipynb`, `two_layer_net.ipynb` and `features.ipynb`).\n",
    "\n",
    "It will:\n",
    "\n",
    "* Generate a zip file of your code (`.py` and `.ipynb`) called `a1.zip`.\n",
    "* Convert all notebooks into a single PDF file called `assignment1.pdf`.\n",
    "\n",
    "If your submission for this step was successful, you should see the following display message:\n",
    "\n",
    "`### Done! Please submit a1.zip and the assignment1.pdf to Teams. ###`\n",
    "\n",
    "Make sure to download the zip and pdf file locally to your computer, then submit to Teams. Congrats on succesfully completing the assignment!"
   ]
  },
  {
   "cell_type": "code",
   "execution_count": null,
   "id": "3059162b",
   "metadata": {},
   "outputs": [],
   "source": [
    "%cd $FOLDERNAME\n",
    "!sudo apt-get install texlive-xetex texlive-fonts-recommended texlive-generic-recommended\n",
    "!pip install PyPDF2\n",
    "!bash collectSubmission.sh"
   ]
  }
 ],
 "metadata": {
  "language_info": {
   "name": "python"
  }
 },
 "nbformat": 4,
 "nbformat_minor": 5
}
